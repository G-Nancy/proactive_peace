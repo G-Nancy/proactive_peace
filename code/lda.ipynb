{
 "cells": [
  {
   "cell_type": "code",
   "execution_count": 34,
   "metadata": {},
   "outputs": [],
   "source": [
    "import pickle, os\n",
    "import pandas as pd\n",
    "import numpy as np\n",
    "import matplotlib.pyplot as plt\n",
    "import scipy\n",
    "from sklearn.model_selection import train_test_split\n",
    "from sklearn.discriminant_analysis import LinearDiscriminantAnalysis\n",
    "from sklearn.metrics import classification_report"
   ]
  },
  {
   "cell_type": "code",
   "execution_count": 35,
   "metadata": {},
   "outputs": [],
   "source": [
    "data = os.path.abspath('../WESAD')\n",
    "\n",
    "class subject:\n",
    "    def __init__(self, path, num):\n",
    "        self.name = f\"S{num}\"\n",
    "        self.subject_keys = ['signal','label','subject']\n",
    "        self.signal_keys = ['wrist']\n",
    "        self.wrist_keys = ['BVP','EDA','ACC','TEMP']\n",
    "        with open(os.path.join(path, self.name)+'/'+self.name+'.pkl','rb') as file:\n",
    "            self.data = pickle.load(file, encoding='latin1')\n",
    "        self.labels = self.data['label']\n",
    "    \n",
    "    def get_wrist_data(self):\n",
    "        data = self.data['signal']['wrist']\n",
    "        return data\n",
    "    \n",
    "    def get_subject_dataframe(self):\n",
    "        wrist_data = self.get_wrist_data()\n",
    "        bvp_signal = wrist_data['BVP'][:,0]\n",
    "        eda_signal = wrist_data['EDA'][:,0]\n",
    "        acc_x_signal = wrist_data['ACC'][:,0]\n",
    "        acc_y_signal = wrist_data['ACC'][:,1]\n",
    "        acc_z_signal = wrist_data['ACC'][:,2]\n",
    "        temp_signal = wrist_data['TEMP'][:,0]\n",
    "        # Upsampling data to match BVP data sampling rate using fourier method as described in Paper/dataset\n",
    "        eda_upsampled = scipy.signal.resample(eda_signal, len(bvp_signal))\n",
    "        temp_upsampled = scipy.signal.resample(temp_signal, len(bvp_signal))\n",
    "        acc_x_upsampled = scipy.signal.resample(acc_x_signal, len(bvp_signal))\n",
    "        acc_y_upsampled = scipy.signal.resample(acc_y_signal, len(bvp_signal))\n",
    "        acc_z_upsampled = scipy.signal.resample(acc_z_signal, len(bvp_signal))\n",
    "        label_df = pd.DataFrame(self.labels, columns=['label'])\n",
    "        label_df.index = [(1 / 700) * i for i in range(len(label_df))] # 700 is the sampling rate of the label\n",
    "        label_df.index = pd.to_datetime(label_df.index, unit='s')\n",
    "        data_arrays = zip(bvp_signal, eda_upsampled, acc_x_upsampled, acc_y_upsampled, acc_z_upsampled, temp_upsampled)\n",
    "        df = pd.DataFrame(data=data_arrays, columns=['BVP', 'EDA', 'ACC_x', 'ACC_y', 'ACC_z', 'TEMP'])\n",
    "        df.index = [(1 / 64) * i for i in range(len(df))] # 64 = sampling rate of BVP\n",
    "        df.index = pd.to_datetime(df.index, unit='s')\n",
    "        df = df.join(label_df)\n",
    "        df['label'] = df['label'].fillna(method='ffill')\n",
    "        df.reset_index(drop=True, inplace=True)\n",
    "        # df.drop(df[df['label'].isin([0.0, 4.0, 5.0, 6.0, 7.0])].index, inplace=True)\n",
    "        # df['label'] = df['label'].replace([1.0, 2.0, 3.0], [0, 1, 0])\n",
    "        df.reset_index(drop=True, inplace=True)\n",
    "        return df \n",
    "\n",
    "s2 = subject(data,'2')\n",
    "s2_wrist_data = s2.get_wrist_data()\n"
   ]
  },
  {
   "cell_type": "code",
   "execution_count": 36,
   "metadata": {},
   "outputs": [
    {
     "name": "stdout",
     "output_type": "stream",
     "text": [
      "SUBJECT 2\n"
     ]
    },
    {
     "name": "stderr",
     "output_type": "stream",
     "text": [
      "/var/folders/lw/14dpn8b91z99svtdtfqnx09800tlp4/T/ipykernel_38055/717854677.py:39: FutureWarning: Series.fillna with 'method' is deprecated and will raise in a future version. Use obj.ffill() or obj.bfill() instead.\n",
      "  df['label'] = df['label'].fillna(method='ffill')\n"
     ]
    },
    {
     "name": "stdout",
     "output_type": "stream",
     "text": [
      "              precision    recall  f1-score   support\n",
      "\n",
      "         0.0     0.8680    0.7059    0.7786     38936\n",
      "         1.0     0.7898    0.9083    0.8449     14818\n",
      "         2.0     0.7469    0.9747    0.8457      7973\n",
      "         3.0     0.6273    0.3644    0.4610      4523\n",
      "         4.0     0.6258    0.9909    0.7671      9882\n",
      "         6.0     0.2346    0.1180    0.1570       839\n",
      "         7.0     0.0000    0.0000    0.0000       841\n",
      "\n",
      "    accuracy                         0.7744     77812\n",
      "   macro avg     0.5560    0.5803    0.5506     77812\n",
      "weighted avg     0.7797    0.7744    0.7631     77812\n",
      "\n",
      "\n",
      "SUBJECT 3\n"
     ]
    },
    {
     "name": "stderr",
     "output_type": "stream",
     "text": [
      "/var/folders/lw/14dpn8b91z99svtdtfqnx09800tlp4/T/ipykernel_38055/717854677.py:39: FutureWarning: Series.fillna with 'method' is deprecated and will raise in a future version. Use obj.ffill() or obj.bfill() instead.\n",
      "  df['label'] = df['label'].fillna(method='ffill')\n",
      "/Users/gnancy/.pyenv/versions/3.9.2/lib/python3.9/site-packages/sklearn/metrics/_classification.py:1565: UndefinedMetricWarning: Precision is ill-defined and being set to 0.0 in labels with no predicted samples. Use `zero_division` parameter to control this behavior.\n",
      "  _warn_prf(average, modifier, f\"{metric.capitalize()} is\", len(result))\n",
      "/Users/gnancy/.pyenv/versions/3.9.2/lib/python3.9/site-packages/sklearn/metrics/_classification.py:1565: UndefinedMetricWarning: Precision is ill-defined and being set to 0.0 in labels with no predicted samples. Use `zero_division` parameter to control this behavior.\n",
      "  _warn_prf(average, modifier, f\"{metric.capitalize()} is\", len(result))\n",
      "/Users/gnancy/.pyenv/versions/3.9.2/lib/python3.9/site-packages/sklearn/metrics/_classification.py:1565: UndefinedMetricWarning: Precision is ill-defined and being set to 0.0 in labels with no predicted samples. Use `zero_division` parameter to control this behavior.\n",
      "  _warn_prf(average, modifier, f\"{metric.capitalize()} is\", len(result))\n"
     ]
    },
    {
     "name": "stdout",
     "output_type": "stream",
     "text": [
      "              precision    recall  f1-score   support\n",
      "\n",
      "         0.0     0.7958    0.7050    0.7477     42689\n",
      "         1.0     0.7112    0.9817    0.8248     14652\n",
      "         2.0     0.6201    0.8430    0.7145      8176\n",
      "         3.0     0.4689    0.2915    0.3595      4882\n",
      "         4.0     0.8074    0.8773    0.8409     10045\n",
      "         5.0     0.0000    0.0000    0.0000       895\n",
      "         6.0     0.0000    0.0000    0.0000       891\n",
      "         7.0     0.0000    0.0000    0.0000       881\n",
      "\n",
      "    accuracy                         0.7413     83111\n",
      "   macro avg     0.4254    0.4623    0.4359     83111\n",
      "weighted avg     0.7203    0.7413    0.7225     83111\n",
      "\n",
      "\n",
      "SUBJECT 4\n"
     ]
    },
    {
     "name": "stderr",
     "output_type": "stream",
     "text": [
      "/var/folders/lw/14dpn8b91z99svtdtfqnx09800tlp4/T/ipykernel_38055/717854677.py:39: FutureWarning: Series.fillna with 'method' is deprecated and will raise in a future version. Use obj.ffill() or obj.bfill() instead.\n",
      "  df['label'] = df['label'].fillna(method='ffill')\n"
     ]
    },
    {
     "name": "stdout",
     "output_type": "stream",
     "text": [
      "              precision    recall  f1-score   support\n",
      "\n",
      "         0.0     0.7894    0.8712    0.8283     42335\n",
      "         1.0     0.8930    0.9254    0.9089     14744\n",
      "         2.0     0.8793    1.0000    0.9358      8200\n",
      "         3.0     0.6430    0.7342    0.6856      4729\n",
      "         4.0     0.8273    0.4286    0.5646     10374\n",
      "         5.0     0.0000    0.0000    0.0000       620\n",
      "         6.0     0.0268    0.0055    0.0091       545\n",
      "         7.0     0.2000    0.0015    0.0030       668\n",
      "\n",
      "    accuracy                         0.8107     82215\n",
      "   macro avg     0.5324    0.4958    0.4919     82215\n",
      "weighted avg     0.7975    0.8107    0.7936     82215\n",
      "\n",
      "\n",
      "SUBJECT 5\n"
     ]
    },
    {
     "name": "stderr",
     "output_type": "stream",
     "text": [
      "/var/folders/lw/14dpn8b91z99svtdtfqnx09800tlp4/T/ipykernel_38055/717854677.py:39: FutureWarning: Series.fillna with 'method' is deprecated and will raise in a future version. Use obj.ffill() or obj.bfill() instead.\n",
      "  df['label'] = df['label'].fillna(method='ffill')\n"
     ]
    },
    {
     "name": "stdout",
     "output_type": "stream",
     "text": [
      "              precision    recall  f1-score   support\n",
      "\n",
      "         0.0     0.8216    0.7581    0.7886     39073\n",
      "         1.0     0.7137    0.8572    0.7789     15505\n",
      "         2.0     0.7723    0.9253    0.8419      8235\n",
      "         3.0     0.6830    0.9376    0.7903      4710\n",
      "         4.0     0.6629    0.5869    0.6226     10195\n",
      "         5.0     0.0000    0.0000    0.0000       933\n",
      "         6.0     0.0000    0.0000    0.0000       582\n",
      "         7.0     0.0000    0.0000    0.0000       870\n",
      "\n",
      "    accuracy                         0.7606     80103\n",
      "   macro avg     0.4567    0.5081    0.4778     80103\n",
      "weighted avg     0.7429    0.7606    0.7477     80103\n",
      "\n",
      "\n",
      "SUBJECT 6\n"
     ]
    },
    {
     "name": "stderr",
     "output_type": "stream",
     "text": [
      "/var/folders/lw/14dpn8b91z99svtdtfqnx09800tlp4/T/ipykernel_38055/717854677.py:39: FutureWarning: Series.fillna with 'method' is deprecated and will raise in a future version. Use obj.ffill() or obj.bfill() instead.\n",
      "  df['label'] = df['label'].fillna(method='ffill')\n"
     ]
    },
    {
     "name": "stdout",
     "output_type": "stream",
     "text": [
      "              precision    recall  f1-score   support\n",
      "\n",
      "         0.0     0.7256    0.8810    0.7958     49849\n",
      "         1.0     0.8111    0.8162    0.8136     15187\n",
      "         2.0     0.7927    0.9945    0.8822      8317\n",
      "         3.0     0.3599    0.0809    0.1321      4797\n",
      "         4.0     0.4687    0.1377    0.2128     10052\n",
      "         5.0     0.0000    0.0000    0.0000       745\n",
      "         6.0     0.0000    0.0000    0.0000       692\n",
      "         7.0     0.0116    0.0011    0.0021       870\n",
      "\n",
      "    accuracy                         0.7332     90509\n",
      "   macro avg     0.3962    0.3639    0.3548     90509\n",
      "weighted avg     0.6798    0.7332    0.6866     90509\n",
      "\n",
      "\n",
      "SUBJECT 7\n"
     ]
    },
    {
     "name": "stderr",
     "output_type": "stream",
     "text": [
      "/var/folders/lw/14dpn8b91z99svtdtfqnx09800tlp4/T/ipykernel_38055/717854677.py:39: FutureWarning: Series.fillna with 'method' is deprecated and will raise in a future version. Use obj.ffill() or obj.bfill() instead.\n",
      "  df['label'] = df['label'].fillna(method='ffill')\n"
     ]
    },
    {
     "name": "stdout",
     "output_type": "stream",
     "text": [
      "              precision    recall  f1-score   support\n",
      "\n",
      "         0.0     0.8917    0.6014    0.7184     26876\n",
      "         1.0     0.5080    0.8606    0.6389     15089\n",
      "         2.0     0.6494    0.9800    0.7812      8256\n",
      "         3.0     0.0000    0.0000    0.0000      4726\n",
      "         4.0     0.7056    0.5394    0.6114     10178\n",
      "         5.0     0.3996    0.9905    0.5695       633\n",
      "         6.0     0.0000    0.0000    0.0000       587\n",
      "         7.0     0.0143    0.0057    0.0081       702\n",
      "\n",
      "    accuracy                         0.6467     67047\n",
      "   macro avg     0.3961    0.4972    0.4159     67047\n",
      "weighted avg     0.6628    0.6467    0.6262     67047\n",
      "\n",
      "\n",
      "SUBJECT 8\n"
     ]
    },
    {
     "name": "stderr",
     "output_type": "stream",
     "text": [
      "/var/folders/lw/14dpn8b91z99svtdtfqnx09800tlp4/T/ipykernel_38055/717854677.py:39: FutureWarning: Series.fillna with 'method' is deprecated and will raise in a future version. Use obj.ffill() or obj.bfill() instead.\n",
      "  df['label'] = df['label'].fillna(method='ffill')\n",
      "/Users/gnancy/.pyenv/versions/3.9.2/lib/python3.9/site-packages/sklearn/metrics/_classification.py:1565: UndefinedMetricWarning: Precision is ill-defined and being set to 0.0 in labels with no predicted samples. Use `zero_division` parameter to control this behavior.\n",
      "  _warn_prf(average, modifier, f\"{metric.capitalize()} is\", len(result))\n",
      "/Users/gnancy/.pyenv/versions/3.9.2/lib/python3.9/site-packages/sklearn/metrics/_classification.py:1565: UndefinedMetricWarning: Precision is ill-defined and being set to 0.0 in labels with no predicted samples. Use `zero_division` parameter to control this behavior.\n",
      "  _warn_prf(average, modifier, f\"{metric.capitalize()} is\", len(result))\n",
      "/Users/gnancy/.pyenv/versions/3.9.2/lib/python3.9/site-packages/sklearn/metrics/_classification.py:1565: UndefinedMetricWarning: Precision is ill-defined and being set to 0.0 in labels with no predicted samples. Use `zero_division` parameter to control this behavior.\n",
      "  _warn_prf(average, modifier, f\"{metric.capitalize()} is\", len(result))\n"
     ]
    },
    {
     "name": "stdout",
     "output_type": "stream",
     "text": [
      "              precision    recall  f1-score   support\n",
      "\n",
      "         0.0     0.7573    0.6986    0.7268     29496\n",
      "         1.0     0.8489    0.9132    0.8799     15158\n",
      "         2.0     0.7362    0.9156    0.8161      8634\n",
      "         3.0     0.5706    0.9316    0.7077      4676\n",
      "         4.0     0.7063    0.5193    0.5986     10080\n",
      "         5.0     0.0000    0.0000    0.0000       630\n",
      "         6.0     0.0000    0.0000    0.0000       654\n",
      "         7.0     0.0000    0.0000    0.0000       637\n",
      "\n",
      "    accuracy                         0.7424     69965\n",
      "   macro avg     0.4524    0.4973    0.4661     69965\n",
      "weighted avg     0.7339    0.7424    0.7313     69965\n",
      "\n",
      "\n",
      "SUBJECT 9\n"
     ]
    },
    {
     "name": "stderr",
     "output_type": "stream",
     "text": [
      "/var/folders/lw/14dpn8b91z99svtdtfqnx09800tlp4/T/ipykernel_38055/717854677.py:39: FutureWarning: Series.fillna with 'method' is deprecated and will raise in a future version. Use obj.ffill() or obj.bfill() instead.\n",
      "  df['label'] = df['label'].fillna(method='ffill')\n"
     ]
    },
    {
     "name": "stdout",
     "output_type": "stream",
     "text": [
      "              precision    recall  f1-score   support\n",
      "\n",
      "         0.0     0.9268    0.4728    0.6262     26260\n",
      "         1.0     0.8539    0.9917    0.9176     15017\n",
      "         2.0     0.8183    0.9968    0.8988      8225\n",
      "         3.0     0.6943    0.9977    0.8188      4775\n",
      "         4.0     0.6976    0.9887    0.8180     10276\n",
      "         5.0     0.4478    1.0000    0.6186       717\n",
      "         6.0     0.0000    0.0000    0.0000       807\n",
      "         7.0     0.6630    0.9961    0.7961       778\n",
      "\n",
      "    accuracy                         0.7767     66855\n",
      "   macro avg     0.6377    0.8055    0.6868     66855\n",
      "weighted avg     0.8258    0.7767    0.7628     66855\n",
      "\n",
      "\n",
      "SUBJECT 10\n"
     ]
    },
    {
     "name": "stderr",
     "output_type": "stream",
     "text": [
      "/var/folders/lw/14dpn8b91z99svtdtfqnx09800tlp4/T/ipykernel_38055/717854677.py:39: FutureWarning: Series.fillna with 'method' is deprecated and will raise in a future version. Use obj.ffill() or obj.bfill() instead.\n",
      "  df['label'] = df['label'].fillna(method='ffill')\n"
     ]
    },
    {
     "name": "stdout",
     "output_type": "stream",
     "text": [
      "              precision    recall  f1-score   support\n",
      "\n",
      "         0.0     0.9823    0.5807    0.7299     29414\n",
      "         1.0     0.6458    0.9472    0.7680     15094\n",
      "         2.0     0.8352    0.9958    0.9085      9220\n",
      "         3.0     0.7728    0.9987    0.8714      4649\n",
      "         4.0     0.7320    0.9989    0.8449     10104\n",
      "         5.0     0.0000    0.0000    0.0000       638\n",
      "         6.0     0.0000    0.0000    0.0000       549\n",
      "         7.0     0.0000    0.0000    0.0000       681\n",
      "\n",
      "    accuracy                         0.7860     70349\n",
      "   macro avg     0.4960    0.5652    0.5153     70349\n",
      "weighted avg     0.8150    0.7860    0.7679     70349\n",
      "\n",
      "\n",
      "SUBJECT 11\n"
     ]
    },
    {
     "name": "stderr",
     "output_type": "stream",
     "text": [
      "/var/folders/lw/14dpn8b91z99svtdtfqnx09800tlp4/T/ipykernel_38055/717854677.py:39: FutureWarning: Series.fillna with 'method' is deprecated and will raise in a future version. Use obj.ffill() or obj.bfill() instead.\n",
      "  df['label'] = df['label'].fillna(method='ffill')\n"
     ]
    },
    {
     "name": "stdout",
     "output_type": "stream",
     "text": [
      "              precision    recall  f1-score   support\n",
      "\n",
      "         0.0     0.9611    0.5441    0.6949     26286\n",
      "         1.0     0.6604    0.8630    0.7482     15187\n",
      "         2.0     0.7336    0.9402    0.8241      8829\n",
      "         3.0     0.6151    0.9220    0.7379      4613\n",
      "         4.0     0.7806    0.9999    0.8767     10098\n",
      "         5.0     0.0000    0.0000    0.0000       618\n",
      "         6.0     0.6470    0.9112    0.7567       698\n",
      "         7.0     0.0000    0.0000    0.0000       654\n",
      "\n",
      "    accuracy                         0.7569     66983\n",
      "   macro avg     0.5497    0.6476    0.5798     66983\n",
      "weighted avg     0.7904    0.7569    0.7418     66983\n",
      "\n",
      "\n",
      "SUBJECT 13\n"
     ]
    },
    {
     "name": "stderr",
     "output_type": "stream",
     "text": [
      "/var/folders/lw/14dpn8b91z99svtdtfqnx09800tlp4/T/ipykernel_38055/717854677.py:39: FutureWarning: Series.fillna with 'method' is deprecated and will raise in a future version. Use obj.ffill() or obj.bfill() instead.\n",
      "  df['label'] = df['label'].fillna(method='ffill')\n",
      "/Users/gnancy/.pyenv/versions/3.9.2/lib/python3.9/site-packages/sklearn/metrics/_classification.py:1565: UndefinedMetricWarning: Precision is ill-defined and being set to 0.0 in labels with no predicted samples. Use `zero_division` parameter to control this behavior.\n",
      "  _warn_prf(average, modifier, f\"{metric.capitalize()} is\", len(result))\n",
      "/Users/gnancy/.pyenv/versions/3.9.2/lib/python3.9/site-packages/sklearn/metrics/_classification.py:1565: UndefinedMetricWarning: Precision is ill-defined and being set to 0.0 in labels with no predicted samples. Use `zero_division` parameter to control this behavior.\n",
      "  _warn_prf(average, modifier, f\"{metric.capitalize()} is\", len(result))\n",
      "/Users/gnancy/.pyenv/versions/3.9.2/lib/python3.9/site-packages/sklearn/metrics/_classification.py:1565: UndefinedMetricWarning: Precision is ill-defined and being set to 0.0 in labels with no predicted samples. Use `zero_division` parameter to control this behavior.\n",
      "  _warn_prf(average, modifier, f\"{metric.capitalize()} is\", len(result))\n"
     ]
    },
    {
     "name": "stdout",
     "output_type": "stream",
     "text": [
      "              precision    recall  f1-score   support\n",
      "\n",
      "         0.0     0.7384    0.6442    0.6881     30771\n",
      "         1.0     0.5039    0.5302    0.5167     15072\n",
      "         2.0     0.9102    0.9912    0.9490      8456\n",
      "         3.0     0.2498    0.0809    0.1222      4934\n",
      "         4.0     0.5887    0.9927    0.7391     10177\n",
      "         5.0     0.0000    0.0000    0.0000       589\n",
      "         6.0     0.0000    0.0000    0.0000       615\n",
      "         7.0     0.0000    0.0000    0.0000       260\n",
      "\n",
      "    accuracy                         0.6589     70874\n",
      "   macro avg     0.3739    0.4049    0.3769     70874\n",
      "weighted avg     0.6383    0.6589    0.6365     70874\n",
      "\n",
      "\n",
      "SUBJECT 14\n"
     ]
    },
    {
     "name": "stderr",
     "output_type": "stream",
     "text": [
      "/var/folders/lw/14dpn8b91z99svtdtfqnx09800tlp4/T/ipykernel_38055/717854677.py:39: FutureWarning: Series.fillna with 'method' is deprecated and will raise in a future version. Use obj.ffill() or obj.bfill() instead.\n",
      "  df['label'] = df['label'].fillna(method='ffill')\n"
     ]
    },
    {
     "name": "stdout",
     "output_type": "stream",
     "text": [
      "              precision    recall  f1-score   support\n",
      "\n",
      "         0.0     0.6683    0.5638    0.6116     30026\n",
      "         1.0     0.7412    0.9399    0.8288     15182\n",
      "         2.0     0.5837    0.6209    0.6017      8770\n",
      "         3.0     0.5834    0.9987    0.7365      4695\n",
      "         4.0     0.5805    0.4988    0.5365     10131\n",
      "         5.0     0.0000    0.0000    0.0000       797\n",
      "         6.0     0.0231    0.0070    0.0108       714\n",
      "         7.0     0.0000    0.0000    0.0000       700\n",
      "\n",
      "    accuracy                         0.6532     71015\n",
      "   macro avg     0.3975    0.4536    0.4157     71015\n",
      "weighted avg     0.6347    0.6532    0.6354     71015\n",
      "\n",
      "\n",
      "SUBJECT 15\n"
     ]
    },
    {
     "name": "stderr",
     "output_type": "stream",
     "text": [
      "/var/folders/lw/14dpn8b91z99svtdtfqnx09800tlp4/T/ipykernel_38055/717854677.py:39: FutureWarning: Series.fillna with 'method' is deprecated and will raise in a future version. Use obj.ffill() or obj.bfill() instead.\n",
      "  df['label'] = df['label'].fillna(method='ffill')\n",
      "/Users/gnancy/.pyenv/versions/3.9.2/lib/python3.9/site-packages/sklearn/metrics/_classification.py:1565: UndefinedMetricWarning: Precision is ill-defined and being set to 0.0 in labels with no predicted samples. Use `zero_division` parameter to control this behavior.\n",
      "  _warn_prf(average, modifier, f\"{metric.capitalize()} is\", len(result))\n",
      "/Users/gnancy/.pyenv/versions/3.9.2/lib/python3.9/site-packages/sklearn/metrics/_classification.py:1565: UndefinedMetricWarning: Precision is ill-defined and being set to 0.0 in labels with no predicted samples. Use `zero_division` parameter to control this behavior.\n",
      "  _warn_prf(average, modifier, f\"{metric.capitalize()} is\", len(result))\n",
      "/Users/gnancy/.pyenv/versions/3.9.2/lib/python3.9/site-packages/sklearn/metrics/_classification.py:1565: UndefinedMetricWarning: Precision is ill-defined and being set to 0.0 in labels with no predicted samples. Use `zero_division` parameter to control this behavior.\n",
      "  _warn_prf(average, modifier, f\"{metric.capitalize()} is\", len(result))\n"
     ]
    },
    {
     "name": "stdout",
     "output_type": "stream",
     "text": [
      "              precision    recall  f1-score   support\n",
      "\n",
      "         0.0     0.8657    0.6786    0.7608     26674\n",
      "         1.0     0.8381    0.9633    0.8963     15083\n",
      "         2.0     0.7479    0.9146    0.8229      8808\n",
      "         3.0     0.6489    0.9916    0.7845      4768\n",
      "         4.0     0.8426    0.8476    0.8451     10114\n",
      "         5.0     0.0000    0.0000    0.0000       644\n",
      "         6.0     0.2888    0.3591    0.3201       596\n",
      "         7.0     0.0000    0.0000    0.0000       539\n",
      "\n",
      "    accuracy                         0.8063     67226\n",
      "   macro avg     0.5290    0.5944    0.5537     67226\n",
      "weighted avg     0.8049    0.8063    0.7964     67226\n",
      "\n",
      "\n",
      "SUBJECT 16\n"
     ]
    },
    {
     "name": "stderr",
     "output_type": "stream",
     "text": [
      "/var/folders/lw/14dpn8b91z99svtdtfqnx09800tlp4/T/ipykernel_38055/717854677.py:39: FutureWarning: Series.fillna with 'method' is deprecated and will raise in a future version. Use obj.ffill() or obj.bfill() instead.\n",
      "  df['label'] = df['label'].fillna(method='ffill')\n"
     ]
    },
    {
     "name": "stdout",
     "output_type": "stream",
     "text": [
      "              precision    recall  f1-score   support\n",
      "\n",
      "         0.0     0.8234    0.7423    0.7808     31337\n",
      "         1.0     0.8666    0.8146    0.8398     15211\n",
      "         2.0     0.8745    0.9991    0.9326      8585\n",
      "         3.0     0.6615    0.9782    0.7893      4769\n",
      "         4.0     0.7885    0.9349    0.8555     10055\n",
      "         5.0     0.0145    0.0014    0.0026       702\n",
      "         6.0     0.0000    0.0000    0.0000       756\n",
      "         7.0     0.0000    0.0000    0.0000       662\n",
      "\n",
      "    accuracy                         0.8088     72077\n",
      "   macro avg     0.5036    0.5588    0.5251     72077\n",
      "weighted avg     0.7990    0.8088    0.7994     72077\n",
      "\n",
      "\n",
      "SUBJECT 17\n",
      "              precision    recall  f1-score   support\n",
      "\n",
      "         0.0     0.6237    0.8115    0.7053     34676\n",
      "         1.0     0.8938    0.9253    0.9092     15211\n",
      "         2.0     0.6732    0.4792    0.5599      9408\n",
      "         3.0     0.6937    0.9757    0.8108      4848\n",
      "         4.0     0.0560    0.0016    0.0031      9405\n",
      "         5.0     0.0000    0.0000    0.0000       723\n",
      "         6.0     0.4672    0.5343    0.4985       773\n",
      "         7.0     0.0000    0.0000    0.0000       732\n",
      "\n",
      "    accuracy                         0.6847     75776\n",
      "   macro avg     0.4259    0.4659    0.4359     75776\n",
      "weighted avg     0.6045    0.6847    0.6321     75776\n",
      "\n",
      "\n"
     ]
    },
    {
     "name": "stderr",
     "output_type": "stream",
     "text": [
      "/var/folders/lw/14dpn8b91z99svtdtfqnx09800tlp4/T/ipykernel_38055/717854677.py:39: FutureWarning: Series.fillna with 'method' is deprecated and will raise in a future version. Use obj.ffill() or obj.bfill() instead.\n",
      "  df['label'] = df['label'].fillna(method='ffill')\n"
     ]
    }
   ],
   "source": [
    "subject_ids = [2, 3, 4, 5, 6, 7, 8, 9, 10, 11, 13, 14, 15, 16, 17] # ids for subjects in WESAD dataset\n",
    "for subject_id in subject_ids:\n",
    "    print(f'SUBJECT {subject_id}')\n",
    "    df_subject = subject(data, subject_id).get_subject_dataframe()\n",
    "    y = df_subject['label']\n",
    "    df_subject.drop('label', axis=1, inplace=True)\n",
    "    normalized_x=(df_subject-df_subject.min())/(df_subject.max()-df_subject.min())\n",
    "    #x_train, x_test, y_train, y_test=train_test_split(df_subject,y,test_size=0.2)\n",
    "    X_train, x_test, y_train, y_test=train_test_split(normalized_x,y,test_size=0.2)\n",
    "    LDA= LinearDiscriminantAnalysis(solver = 'svd')\n",
    "    y_out = LDA.fit(X_train, y_train).predict(x_test)\n",
    "    #confusion_matrix(y_test, y_out)\n",
    "    print(f'{classification_report(y_test, y_out, digits=4)}\\n')"
   ]
  },
  {
   "cell_type": "code",
   "execution_count": 37,
   "metadata": {},
   "outputs": [
    {
     "name": "stderr",
     "output_type": "stream",
     "text": [
      "/var/folders/lw/14dpn8b91z99svtdtfqnx09800tlp4/T/ipykernel_38055/717854677.py:39: FutureWarning: Series.fillna with 'method' is deprecated and will raise in a future version. Use obj.ffill() or obj.bfill() instead.\n",
      "  df['label'] = df['label'].fillna(method='ffill')\n"
     ]
    },
    {
     "data": {
      "text/plain": [
       "BVP      73216\n",
       "EDA      73216\n",
       "ACC_x    73216\n",
       "ACC_y    73216\n",
       "ACC_z    73216\n",
       "TEMP     73216\n",
       "label    73216\n",
       "dtype: int64"
      ]
     },
     "execution_count": 37,
     "metadata": {},
     "output_type": "execute_result"
    }
   ],
   "source": [
    "df2 = subject(data, 2).get_subject_dataframe()\n",
    "df2[df2['label']== 0.0].count() #195904\n",
    "df2[df2['label']== 1.0].count() #73216\n"
   ]
  }
 ],
 "metadata": {
  "kernelspec": {
   "display_name": "Python 3",
   "language": "python",
   "name": "python3"
  },
  "language_info": {
   "codemirror_mode": {
    "name": "ipython",
    "version": 3
   },
   "file_extension": ".py",
   "mimetype": "text/x-python",
   "name": "python",
   "nbconvert_exporter": "python",
   "pygments_lexer": "ipython3",
   "version": "3.9.2"
  }
 },
 "nbformat": 4,
 "nbformat_minor": 2
}
